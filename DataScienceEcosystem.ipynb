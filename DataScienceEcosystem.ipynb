{
 "cells": [
  {
   "cell_type": "markdown",
   "id": "2da19c1a",
   "metadata": {},
   "source": [
    "# Data Science Tools and Ecosystem"
   ]
  },
  {
   "cell_type": "markdown",
   "id": "a585470d",
   "metadata": {},
   "source": [
    "In this notebook, Data Science Tools and Ecosystem are summarized."
   ]
  },
  {
   "cell_type": "markdown",
   "id": "96bebd15",
   "metadata": {},
   "source": [
    "**Objectives:**\n",
    "\n",
    "- List popular languages for Data Science\n",
    "- List popular libraries for Data Science\n",
    "- List popular open source tools for Data Science\n",
    "- Some examples of arithmetic expressions in Python\n",
    "\n",
    "    \n",
    "    "
   ]
  },
  {
   "cell_type": "markdown",
   "id": "fb02bb46",
   "metadata": {},
   "source": [
    "Some of the popular languages that Data Scientists use are:"
   ]
  },
  {
   "cell_type": "markdown",
   "id": "ba4ae023",
   "metadata": {},
   "source": [
    "1. Python\n",
    "2. R\n",
    "3. C\n"
   ]
  },
  {
   "cell_type": "markdown",
   "id": "5821c082",
   "metadata": {},
   "source": [
    "Some of the commonly used libraries used by Data Scientists include:"
   ]
  },
  {
   "cell_type": "markdown",
   "id": "a24d9861",
   "metadata": {},
   "source": [
    "1. Pandas\n",
    "2. Numpy\n",
    "3. Plotly\n"
   ]
  },
  {
   "cell_type": "markdown",
   "id": "e2bd1c22",
   "metadata": {},
   "source": [
    "| Data Science Tools |\n",
    "| -------------------|\n",
    "| Apache Spark       | \n",
    "| Jupyter Notebook   |\n",
    "| Keras              |\n"
   ]
  },
  {
   "cell_type": "markdown",
   "id": "b035a714",
   "metadata": {},
   "source": [
    "### Below are a few examples of evaluating arithmetic expressions in Python"
   ]
  },
  {
   "cell_type": "code",
   "execution_count": 4,
   "id": "fe1468b7",
   "metadata": {},
   "outputs": [
    {
     "data": {
      "text/plain": [
       "17"
      ]
     },
     "execution_count": 4,
     "metadata": {},
     "output_type": "execute_result"
    }
   ],
   "source": [
    "## This a simple arithmetic expression to mutiply then add integers\n",
    "(3*4)+5"
   ]
  },
  {
   "cell_type": "code",
   "execution_count": 5,
   "id": "1dda341f",
   "metadata": {},
   "outputs": [
    {
     "data": {
      "text/plain": [
       "3.3333333333333335"
      ]
     },
     "execution_count": 5,
     "metadata": {},
     "output_type": "execute_result"
    }
   ],
   "source": [
    "##  This will convert 200 minutes to hours by diving by 60\n",
    "200/60"
   ]
  },
  {
   "cell_type": "markdown",
   "id": "35b3f451",
   "metadata": {},
   "source": [
    "## Author \n",
    "--------------------------------------------------------------------------------------------------------------------------------\n",
    "Alfredo Corilloclla"
   ]
  },
  {
   "cell_type": "code",
   "execution_count": null,
   "id": "63705193",
   "metadata": {},
   "outputs": [],
   "source": []
  }
 ],
 "metadata": {
  "kernelspec": {
   "display_name": "Python 3 (ipykernel)",
   "language": "python",
   "name": "python3"
  },
  "language_info": {
   "codemirror_mode": {
    "name": "ipython",
    "version": 3
   },
   "file_extension": ".py",
   "mimetype": "text/x-python",
   "name": "python",
   "nbconvert_exporter": "python",
   "pygments_lexer": "ipython3",
   "version": "3.11.5"
  }
 },
 "nbformat": 4,
 "nbformat_minor": 5
}
